{
 "cells": [
  {
   "cell_type": "code",
   "execution_count": null,
   "id": "fb826399-2743-43b4-9b42-91ec6ace3117",
   "metadata": {},
   "outputs": [],
   "source": [
    "# Oops Assignment"
   ]
  },
  {
   "cell_type": "markdown",
   "id": "4ef01f4c-5338-461f-9e9e-a4e31861f756",
   "metadata": {},
   "source": [
    "Theory Questions"
   ]
  },
  {
   "cell_type": "markdown",
   "id": "c6587cff-9c6f-4ef2-8195-150567a33945",
   "metadata": {},
   "source": [
    "1) What is Object-Oriented Programming (OOP) ?\n",
    ">  Object-oriented programming is a programming paradigm that is based on the concept of \"objects\", which can contain data and code that manipulates that data. In OOP, objects are created from templates called \"classes\", which define the properties and behavior of the objects they create."
   ]
  },
  {
   "cell_type": "markdown",
   "id": "a1c3565e-c779-4268-a5e6-c8d4f3c4aa17",
   "metadata": {},
   "source": [
    "2) What is a class in OOP ?\n",
    ">  In object-oriented programming, a class is a template definition of the methods and variables in a particular kind of object. Thus, an object is a specific instance of a class, it contains real values instead of variables. The class is one of the defining ideas of object-oriented programming."
   ]
  },
  {
   "cell_type": "markdown",
   "id": "65872914-a574-410c-9c5a-9cefa0f3c561",
   "metadata": {},
   "source": [
    "3) What is an object in OOP ?\n",
    ">  In object-oriented programming, a object is an instance of a class, created by calling the class like a function. The object contains the data and behavior defined by the class, as well as a unique identity."
   ]
  },
  {
   "cell_type": "markdown",
   "id": "df7a9bf1-476a-470b-8774-0e6b821e80c2",
   "metadata": {},
   "source": [
    "4) What is the difference between abstraction and encapsulation ?\n",
    ">  Abstraction provides access to specific part of data. Encapsulation hides data, preventing the users from directly accessing it, (providing controlled access) which is also known as data hiding. Abstraction focuses on “what” the object does and Encapsulation focuses on “How” the object does it."
   ]
  },
  {
   "cell_type": "markdown",
   "id": "1f67d932-1a67-4087-a362-65fdffdf4c1f",
   "metadata": {},
   "source": [
    "5) What are dunder methods in Python ?\n",
    ">  Dunder methods, also known as 'magic methods' or 'special methods', are predefined methods in Python that have double underscores (or “dunders”) at the beginning and end of their names. These methods provide a way to define specific behaviors for built-in operations or functionalities in Python classes."
   ]
  },
  {
   "cell_type": "markdown",
   "id": "d8b22460-c7ab-44e7-8440-4d22aae2c799",
   "metadata": {},
   "source": [
    "6) Explain the concept of inheritance in OOP.\n",
    ">  In object-oriented programming (OOP), inheritance is a mechanism that allows a class to inherit properties and behaviors from another class. It is a fundamental concept in OOP that promotes code reuse and establishes relationships between classes."
   ]
  },
  {
   "cell_type": "markdown",
   "id": "bba437dd-b995-4c6c-bcb5-0c8d5b832bc0",
   "metadata": {},
   "source": [
    "7) What is polymorphism in OOP ?\n",
    ">  Polymorphism means the same function name is being used for different types. Each function is differentiated based on its data type and number of arguments. So, each function has a different signature. This allows developers to write clean, readable, and resilient codes."
   ]
  },
  {
   "cell_type": "markdown",
   "id": "6d2048ea-e528-40bf-a03e-28129b8ab858",
   "metadata": {},
   "source": [
    "8) How is encapsulation achieved in Python ?\n",
    ">  Encapsulation in Python is achieved through the use of 'access modifiers' and 'naming conventions', although it's not enforced as strictly as in some other languages like java. "
   ]
  },
  {
   "cell_type": "markdown",
   "id": "69717068-f59a-48b3-80fe-91f915f775f2",
   "metadata": {},
   "source": [
    "9) What is a constructor in Python ?\n",
    ">  In Python, a constructor is a special method that is automatically called when an object of a class is created. It is used to initialize the attributes of the object."
   ]
  },
  {
   "cell_type": "markdown",
   "id": "9a37c763-4a4d-4dd5-849c-47a263134fcf",
   "metadata": {},
   "source": [
    "10) What are class and static methods in Python ?\n",
    ">   In Python, class methods and static methods are special types of methods that are bound to the class rather than an instance of the class. A class method takes cls as the first parameter while a static method needs no specific parameters."
   ]
  },
  {
   "cell_type": "markdown",
   "id": "75d66643-4a12-416b-851a-89b26a936721",
   "metadata": {},
   "source": [
    "11) What is method overloading in Python ?\n",
    ">   Method overloading in Python is the ability to define multiple methods with the same name but different parameters within the same class. However, Python doesn't support method overloading in the traditional sense, like in languages like Java or C++."
   ]
  },
  {
   "cell_type": "markdown",
   "id": "73bd74f0-f026-465a-989b-dd040ec0af23",
   "metadata": {},
   "source": [
    "12) What is method overriding in OOP ?\n",
    ">   Method overriding, in oop, is a language feature that allows a subclass or child class to provide a specific implementation of a method that is already provided by one of its superclasses or parent classes."
   ]
  },
  {
   "cell_type": "markdown",
   "id": "4da62d00-7e64-410e-8453-01bdfdb35678",
   "metadata": {},
   "source": [
    "13) What is a property decorator in Python ?\n",
    ">   In Python, the 'property decorator' is a powerful tool that allows you to define methods that behave like attributes. This means you can access and modify the values of these methods just as if they were regular attributes, while still having the flexibility to execute code within those methods."
   ]
  },
  {
   "cell_type": "markdown",
   "id": "309c3b7c-4dbb-4890-ab80-0329ad560d14",
   "metadata": {},
   "source": [
    "14) Why is polymorphism important in OOP ?\n",
    ">   Polymorphism is one of the core principles of OOP, enabling objects to take on many forms. It allows developers to write generic code that can operate on various types of objects, reducing redundancy and improving efficiency. Polymorphism enables the creation of flexible and adaptable systems, making it easier to maintain and enhance the software over time."
   ]
  },
  {
   "cell_type": "markdown",
   "id": "1f6951e6-21d9-4aef-978d-cf45fd1aae76",
   "metadata": {},
   "source": [
    "15) What is an abstract class in Python ?\n",
    ">   In Python, an abstract class is a class that cannot be instantiated on its own and is designed to be a blueprint for other classes. Abstract classes allow us to define methods that must be implemented by subclasses, ensuring a consistent interface while still allowing the subclasses to provide specific implementations."
   ]
  },
  {
   "cell_type": "markdown",
   "id": "cafe93b2-4de3-45df-8ef5-f101b4380c4d",
   "metadata": {},
   "source": [
    "16) What are the advantages of OOP ?\n",
    ">   It improved code organization through encapsulation, reusability via inheritance, flexibility with polymorphism, and simplification of complex systems through abstraction."
   ]
  },
  {
   "cell_type": "markdown",
   "id": "4ca11a2f-c203-4bd8-bf7a-c425436d4da0",
   "metadata": {},
   "source": [
    "17) What is the difference between a class variable and an instance variable ?\n",
    ">   The 'class variables' are defined within the class but outside of any class methods. On the other hand 'instance variables' are defined within class methods, typically the constructor. Changes made to the 'class variable' affect all instances but Changes made to the 'instance variable' does not affect all instances."
   ]
  },
  {
   "cell_type": "markdown",
   "id": "53ebee7a-9064-44e3-be7f-20f8f40003f8",
   "metadata": {},
   "source": [
    "18) What is multiple inheritance in Python ?\n",
    ">   Multipath inheritance occurs when a class inherits from multiple parent classes, creating different paths to reach the same parent. This means that a child class can access methods from more than one parent class, leading to a more flexible design."
   ]
  },
  {
   "cell_type": "markdown",
   "id": "d18a2f26-9d7a-4ea9-adf7-10519ef60716",
   "metadata": {},
   "source": [
    "19) Explain the purpose of '__str__' and '__repr__' methods in Python.\n",
    ">   The '__str__' is used for informal string representations, such as printing objects for user consumption. While the '__repr__' is used for formal string representations, including debugging, logging, and object inspection"
   ]
  },
  {
   "cell_type": "markdown",
   "id": "bfcaef6c-9f6d-4a94-bae7-bf0aa8493dec",
   "metadata": {},
   "source": [
    "20) What is the significance of the ‘super()’ function in Python ?\n",
    ">   The 'super()' is a built-in function that allows access to methods and properties of a parent or superclass from a child or subclass. This is useful when working with inheritance in object-oriented programming."
   ]
  },
  {
   "cell_type": "markdown",
   "id": "f2b903c5-5b19-44ca-ac46-7b85a989a87d",
   "metadata": {},
   "source": [
    "21) What is the significance of the '__del__' method in Python ?\n",
    ">   The __del__ method is a special method, also known as a destructor, that is called when an object is about to be destroyed by the garbage collector. This method exists to release any resources held by an object when that object is deleted."
   ]
  },
  {
   "cell_type": "markdown",
   "id": "b7cac61d-7e0f-4ed2-bb38-365932771dfb",
   "metadata": {},
   "source": [
    "22) What is the difference between @staticmethod and @classmethod in Python ?\n",
    ">  A class method takes 'cls' as the first parameter while a static method needs no specific parameters. A class method can access or modify the class state while a static method can't access or modify it. In general, static methods know nothing about the class state."
   ]
  },
  {
   "cell_type": "markdown",
   "id": "85c6fe31-201a-4f02-ab90-3186cf72536d",
   "metadata": {},
   "source": [
    "23) How does polymorphism work in Python with inheritance ?\n",
    ">   In Python, polymorphism works seamlessly with inheritance by allowing subclasses to override or extend the behavior of methods defined in their parent class. This enables objects of different classes to be treated as objects of a common superclass, while still behaving according to their own specific implementation."
   ]
  },
  {
   "cell_type": "markdown",
   "id": "251d0222-0347-4973-89d1-61c149e3e521",
   "metadata": {},
   "source": [
    "24) What is method chaining in Python OOP ?\n",
    ">   Method chaining in Python OOP (Object-Oriented Programming) is a technique where multiple methods are called on the same object in a single line of code. This approach makes the code more readable and concise."
   ]
  },
  {
   "cell_type": "markdown",
   "id": "7b637579-d685-4409-a8fd-31846c0e66f2",
   "metadata": {},
   "source": [
    "25) What is the purpose of the '__call__' method in Python ?\n",
    ">   The '__call__' method in Python allows an instance of a class to be called as if it were a function. This means you can use the instance itself to invoke a specific behavior defined within the __call__ method."
   ]
  },
  {
   "cell_type": "raw",
   "id": "75cc5490-4dbc-407b-a13b-79b0c3f1e440",
   "metadata": {},
   "source": [
    "Practical Questions"
   ]
  },
  {
   "cell_type": "code",
   "execution_count": 2,
   "id": "36387258-c6fa-4cb7-8b5b-583ae21f954b",
   "metadata": {},
   "outputs": [
    {
     "name": "stdout",
     "output_type": "stream",
     "text": [
      "The Dog makes a sound.\n",
      "Bark!\n"
     ]
    }
   ],
   "source": [
    "# 1) Create a parent class Animal with a method speak() that prints a generic message. Create a child class Dog\n",
    "#that overrides the speak() method to print \"Bark!\".\n",
    "class Animal:\n",
    "    def speak(self):\n",
    "        print(\"The Dog makes a sound.\")\n",
    "class Dog(Animal):\n",
    "    def speak(self):\n",
    "        print(\"Bark!\")\n",
    "\n",
    "generic_animal = Animal()\n",
    "generic_animal.speak()\n",
    "\n",
    "dog = Dog()\n",
    "dog.speak()"
   ]
  },
  {
   "cell_type": "code",
   "execution_count": 6,
   "id": "99545256-bbd0-460b-a3e8-22e672ac50b5",
   "metadata": {},
   "outputs": [
    {
     "name": "stdout",
     "output_type": "stream",
     "text": [
      "Area of Circle: 78.54\n",
      "Area of Rectangle: 24\n"
     ]
    }
   ],
   "source": [
    "# 2) Write a program to create an abstract class Shape with a method area(). Derive classes Circle and Rectangle\n",
    "#from it and implement the area() method in both.\n",
    "from abc import ABC\n",
    "import math\n",
    "\n",
    "# Abstract class\n",
    "class Shape(ABC):\n",
    "    @abstractmethod\n",
    "    def area(self):\n",
    "        pass\n",
    "\n",
    "class Circle(Shape): # Derived class for Circle\n",
    "    def __init__(self, radius):\n",
    "        self.radius = radius\n",
    "\n",
    "    def area(self):\n",
    "        return math.pi * self.radius ** 2\n",
    "\n",
    "class Rectangle(Shape): # Derived class for Rectangle\n",
    "    def __init__(self, width, height):\n",
    "        self.width = width\n",
    "        self.height = height\n",
    "\n",
    "    def area(self):\n",
    "        return self.width * self.height\n",
    "\n",
    "circle = Circle(radius=5)\n",
    "rectangle = Rectangle(width=4, height=6)\n",
    "\n",
    "print(f\"Area of Circle: {circle.area():.2f}\")\n",
    "print(f\"Area of Rectangle: {rectangle.area()}\")"
   ]
  },
  {
   "cell_type": "code",
   "execution_count": 14,
   "id": "3301ad3c-63c9-4c4c-80a7-9e65fb1dc572",
   "metadata": {},
   "outputs": [],
   "source": [
    "# 3) Implement a multi-level inheritance scenario where a class Vehicle has an attribute type. Derive a class Car\n",
    "#and further derive a class ElectricCar that adds a battery attribute.\n",
    "\n",
    "class Vehicle:\n",
    "    def __init__(self, vehicle_type):\n",
    "        self.vehicle_type = vehicle_type\n",
    "\n",
    "    def display_type(self):\n",
    "        print(f\"Vehicle Type: {self.vehicle_type}\")\n",
    "\n",
    "class Car(Vehicle):\n",
    "    def __init__(self, vehicle_type, brand):\n",
    "        super().__init__(vehicle_type)  # Initialize the base class\n",
    "        self.brand = brand\n",
    "\n",
    "    def display_car_info(self):\n",
    "        print(f\"Car Brand: {self.brand}\")\n",
    "\n",
    "class ElectricCar(Car):\n",
    "    def __init__(self, vehicle_type, brand, battery_capacity):\n",
    "        super().__init__(vehicle_type, brand)\n",
    "        self.battery_capacity = battery_capacity\n",
    "\n",
    "    def display_electric_car_info(self):\n",
    "        print(f\"Battery Capacity: {self.battery_capacity} kWh\")\n",
    "\n",
    "\n",
    "tesla = ElectricCar(vehicle_type=\"Car\", brand=\"Tesla\", battery_capacity=100)"
   ]
  },
  {
   "cell_type": "code",
   "execution_count": 15,
   "id": "f39f8b4d-3aa3-40f9-9dcd-0b2bdb919d3d",
   "metadata": {},
   "outputs": [
    {
     "name": "stdout",
     "output_type": "stream",
     "text": [
      "Vehicle Type: Car\n"
     ]
    }
   ],
   "source": [
    "tesla.display_type()"
   ]
  },
  {
   "cell_type": "code",
   "execution_count": 16,
   "id": "79fe265b-52e8-42fd-a79e-c114a6892cfd",
   "metadata": {},
   "outputs": [
    {
     "name": "stdout",
     "output_type": "stream",
     "text": [
      "Car Brand: Tesla\n"
     ]
    }
   ],
   "source": [
    "tesla.display_car_info()"
   ]
  },
  {
   "cell_type": "code",
   "execution_count": 17,
   "id": "9be37180-d1c3-47d0-8764-0b1cd8e921bc",
   "metadata": {},
   "outputs": [
    {
     "name": "stdout",
     "output_type": "stream",
     "text": [
      "Battery Capacity: 100 kWh\n"
     ]
    }
   ],
   "source": [
    "tesla.display_electric_car_info()"
   ]
  },
  {
   "cell_type": "code",
   "execution_count": 18,
   "id": "773dc22d-5445-430f-9705-8c0f8dc40182",
   "metadata": {},
   "outputs": [
    {
     "name": "stdout",
     "output_type": "stream",
     "text": [
      "Vehicle Type: Car\n",
      "Car Brand: Tesla\n",
      "Battery Capacity: 100 kWh\n"
     ]
    }
   ],
   "source": [
    "# 4) Implement a multi-level inheritance scenario where a class Vehicle has an attribute type. Derive a class Car\n",
    "#and further derive a class ElectricCar that adds a battery attribute.\n",
    "\n",
    "class Vehicle:\n",
    "    def __init__(self, vehicle_type):\n",
    "        self.vehicle_type = vehicle_type\n",
    "\n",
    "    def display_type(self):\n",
    "        print(f\"Vehicle Type: {self.vehicle_type}\")\n",
    "\n",
    "class Car(Vehicle):\n",
    "    def __init__(self, vehicle_type, brand):\n",
    "        super().__init__(vehicle_type) \n",
    "        self.brand = brand\n",
    "\n",
    "    def display_car_info(self):\n",
    "        print(f\"Car Brand: {self.brand}\")\n",
    "\n",
    "class ElectricCar(Car):\n",
    "    def __init__(self, vehicle_type, brand, battery_capacity):\n",
    "        super().__init__(vehicle_type, brand)\n",
    "        self.battery_capacity = battery_capacity\n",
    "\n",
    "    def display_electric_car_info(self):\n",
    "        print(f\"Battery Capacity: {self.battery_capacity} kWh\")\n",
    "\n",
    "tesla = ElectricCar(vehicle_type=\"Car\", brand=\"Tesla\", battery_capacity=100)\n",
    "\n",
    "\n",
    "tesla.display_type()               # From Vehicle class\n",
    "tesla.display_car_info()           # From Car class\n",
    "tesla.display_electric_car_info()  # From ElectricCar class"
   ]
  },
  {
   "cell_type": "code",
   "execution_count": 26,
   "id": "0742a908-d472-4400-aaea-042d3e946eaa",
   "metadata": {},
   "outputs": [],
   "source": [
    "# 5) Write a program to demonstrate encapsulation by creating a class BankAccount with private attributes\n",
    "#balance and methods to deposit, withdraw, and check balance.\n",
    "\n",
    "class BankAccount:\n",
    "    def __init__(self, account_holder, initial_balance=0):\n",
    "        self.__balance = initial_balance  # Private attribute\n",
    "        self.account_holder = account_holder\n",
    "\n",
    "    # Deposit money\n",
    "    def deposit(self, amount):\n",
    "        if amount > 0:\n",
    "            self.__balance += amount\n",
    "            print(f\"₹{amount} deposited successfully!\")\n",
    "        else:\n",
    "            print(\"Deposit amount must be positive.\")\n",
    "\n",
    "    # Withdraw money\n",
    "    def withdraw(self, amount):\n",
    "        if 0 < amount <= self.__balance:\n",
    "            self.__balance -= amount\n",
    "            print(f\"₹{amount} withdrawn successfully!\")\n",
    "        elif amount > self.__balance:\n",
    "            print(\"Insufficient balance!\")\n",
    "        else:\n",
    "            print(\"Withdrawal amount must be positive.\")\n",
    "\n",
    "    # Check balance\n",
    "    def check_balance(self):\n",
    "        return f\"Available balance: ₹{self.__balance}\"\n",
    "\n",
    "\n",
    "account = BankAccount(account_holder=\"Jay\", initial_balance=0)       "
   ]
  },
  {
   "cell_type": "code",
   "execution_count": 27,
   "id": "e50285c4-593b-4299-ae08-0e2efebc6098",
   "metadata": {},
   "outputs": [
    {
     "name": "stdout",
     "output_type": "stream",
     "text": [
      "₹3000 deposited successfully!\n"
     ]
    }
   ],
   "source": [
    "account.deposit(3000)"
   ]
  },
  {
   "cell_type": "code",
   "execution_count": 28,
   "id": "4ecd909d-b42a-4b42-bf77-8f4d686bb19f",
   "metadata": {},
   "outputs": [
    {
     "data": {
      "text/plain": [
       "'Available balance: ₹3000'"
      ]
     },
     "execution_count": 28,
     "metadata": {},
     "output_type": "execute_result"
    }
   ],
   "source": [
    "account.check_balance()"
   ]
  },
  {
   "cell_type": "code",
   "execution_count": 29,
   "id": "5d6b8b50-3a46-46b9-96b0-cf7671bbf7ff",
   "metadata": {},
   "outputs": [
    {
     "name": "stdout",
     "output_type": "stream",
     "text": [
      "₹2900 withdrawn successfully!\n"
     ]
    }
   ],
   "source": [
    "account.withdraw(2900)"
   ]
  },
  {
   "cell_type": "code",
   "execution_count": 30,
   "id": "8333207c-278c-4d64-9bc4-c35edfe54b9a",
   "metadata": {},
   "outputs": [
    {
     "name": "stdout",
     "output_type": "stream",
     "text": [
      "Insufficient balance!\n"
     ]
    }
   ],
   "source": [
    "account.withdraw(300)"
   ]
  },
  {
   "cell_type": "code",
   "execution_count": 38,
   "id": "1171b5a5-2a11-4083-a11b-76d22c16b963",
   "metadata": {},
   "outputs": [
    {
     "name": "stdout",
     "output_type": "stream",
     "text": [
      "Playing the Guitar: Strumming the strings!\n",
      "Playing the Piano: Pressing the keys!\n"
     ]
    }
   ],
   "source": [
    "# 6) Demonstrate runtime polymorphism using a method play() in a base class Instrument. Derive classes Guitar\n",
    "#and Piano that implement their own version of play().\n",
    "\n",
    "# Base class\n",
    "class Instrument:\n",
    "    def play(self):\n",
    "        raise NotImplementedError(\"Subclasses must implement the play() method\")\n",
    "\n",
    "# Derived class Guitar\n",
    "class Guitar(Instrument):\n",
    "    def play(self):\n",
    "        return \"Playing the Guitar: Strumming the strings!\"\n",
    "\n",
    "# Derived class Piano\n",
    "class Piano(Instrument):\n",
    "    def play(self):\n",
    "        return \"Playing the Piano: Pressing the keys!\"\n",
    "\n",
    "def play_instrument(instrument):\n",
    "    print(instrument.play())\n",
    "\n",
    "guitar = Guitar()\n",
    "piano = Piano()\n",
    "\n",
    "play_instrument(guitar)\n",
    "play_instrument(piano)"
   ]
  },
  {
   "cell_type": "code",
   "execution_count": 41,
   "id": "f7f05365-0537-4804-bc29-3125778e0ee2",
   "metadata": {},
   "outputs": [
    {
     "name": "stdout",
     "output_type": "stream",
     "text": [
      "Sum: 15\n",
      "Difference: 5\n"
     ]
    }
   ],
   "source": [
    "# 7) Create a class MathOperations with a class method add_numbers() to add two numbers and a static\n",
    "#method subtract_numbers() to subtract two numbers.\n",
    "\n",
    "class Maths:\n",
    "    @classmethod    # Class method to add two numbers\n",
    "    def add_numbers(cls, a, b):\n",
    "        return a + b\n",
    "\n",
    "    @staticmethod   # Static method to subtract two numbers\n",
    "    def subtract_numbers(a, b):\n",
    "        return a - b\n",
    "\n",
    "sum_result = Maths.add_numbers(10, 5)\n",
    "print(f\"Sum: {sum_result}\")\n",
    "\n",
    "difference_result = Maths.subtract_numbers(10, 5)\n",
    "print(f\"Difference: {difference_result}\")"
   ]
  },
  {
   "cell_type": "code",
   "execution_count": 67,
   "id": "344a69bd-8c3a-4841-a5e8-13771a7df744",
   "metadata": {},
   "outputs": [
    {
     "name": "stdout",
     "output_type": "stream",
     "text": [
      "Total number of persons created: 3\n"
     ]
    }
   ],
   "source": [
    "# 8) Implement a class Person with a class method to count the total number of persons created.\n",
    "\n",
    "class Person:\n",
    "    total_persons = 0\n",
    "\n",
    "    def __init__(self, name):\n",
    "        self.name = name\n",
    "        Person.total_persons += 1\n",
    "\n",
    "    @classmethod\n",
    "    def count_persons(cls):\n",
    "        return cls.total_persons\n",
    "\n",
    "person1 = Person(\"Raju\")\n",
    "person2 = Person(\"Baburao\")\n",
    "person3 = Person(\"shyam\")\n",
    "\n",
    "print(f\"Total number of persons created: {Person.count_persons()}\")"
   ]
  },
  {
   "cell_type": "code",
   "execution_count": 52,
   "id": "e83fde66-37dd-4a51-b740-23bf8c04c29d",
   "metadata": {},
   "outputs": [],
   "source": [
    "# 9) Write a class Fraction with attributes numerator and denominator. Override the str method to display the\n",
    "#fraction as \"numerator/denominator\".\n",
    "\n",
    "class fraction:\n",
    "    def __init__(self, numerator, denominator):\n",
    "        if denominator == 0:\n",
    "            raise ValueError(\"Denominator cannot be zero.\")\n",
    "        self.numerator = numerator\n",
    "        self.denominator = denominator\n",
    "\n",
    "    def __str__(self):\n",
    "        return f\"{self.numerator}/{self.denominator}\""
   ]
  },
  {
   "cell_type": "code",
   "execution_count": 60,
   "id": "85f8d379-b682-4c9b-8c16-98f7ab96c40e",
   "metadata": {},
   "outputs": [
    {
     "name": "stdout",
     "output_type": "stream",
     "text": [
      "3/5 2/9\n"
     ]
    }
   ],
   "source": [
    "frac1 = fraction(3, 5)\n",
    "frac2 = fraction(2, 9)\n",
    "print(frac1, frac2)"
   ]
  },
  {
   "cell_type": "code",
   "execution_count": 68,
   "id": "562b2d69-3038-4d6d-9b5a-bfe5cf7d19a0",
   "metadata": {},
   "outputs": [],
   "source": [
    "# 10) Demonstrate operator overloading by creating a class Vector and overriding the add method to add two\n",
    "#vectors\n",
    "\n",
    "class Vector:\n",
    "    def __init__(self, x, y):\n",
    "        self.x = x\n",
    "        self.y = y\n",
    "\n",
    "    def __add__(self, other):\n",
    "        return Vector(self.x + other.x, self.y + other.y)\n",
    "\n",
    "    def __str__(self):\n",
    "        return f\"Vector({self.x}, {self.y})\""
   ]
  },
  {
   "cell_type": "code",
   "execution_count": 69,
   "id": "3c255316-2be4-410c-938b-0d185f1a4d61",
   "metadata": {},
   "outputs": [
    {
     "name": "stdout",
     "output_type": "stream",
     "text": [
      "Vector(6, 8)\n"
     ]
    }
   ],
   "source": [
    "v1 = Vector(2, 3)\n",
    "v2 = Vector(4, 5)\n",
    "v3 = v1 + v2\n",
    "print(v3)"
   ]
  },
  {
   "cell_type": "code",
   "execution_count": 70,
   "id": "71fc58a2-07d5-4ee3-9613-61f4d0fd71d8",
   "metadata": {},
   "outputs": [],
   "source": [
    "# 11) Create a class Person with attributes name and age. Add a method greet() that prints \"Hello, my name is\n",
    "#{name} and I am {age} years old.\n",
    "\n",
    "class Person:\n",
    "    def __init__(self, name, age):\n",
    "        self.name = name\n",
    "        self.age = age\n",
    "\n",
    "    def greet(self):\n",
    "        print(f\"Hello, my name is {self.name} and I am {self.age} years old.\")"
   ]
  },
  {
   "cell_type": "code",
   "execution_count": 71,
   "id": "4e572a02-bd52-41dd-8901-e94b48997fed",
   "metadata": {},
   "outputs": [
    {
     "name": "stdout",
     "output_type": "stream",
     "text": [
      "Hello, my name is Alice and I am 30 years old.\n",
      "Hello, my name is Bob and I am 25 years old.\n"
     ]
    }
   ],
   "source": [
    "person1 = Person(\"Alice\", 30)\n",
    "person2 = Person(\"Bob\", 25)\n",
    "person1.greet()\n",
    "person2.greet()"
   ]
  },
  {
   "cell_type": "code",
   "execution_count": 72,
   "id": "9c4dbc78-01ed-4459-a851-8a58dfb580c3",
   "metadata": {},
   "outputs": [
    {
     "name": "stdout",
     "output_type": "stream",
     "text": [
      "Alice's average grade: 88.75\n",
      "Bob's average grade: 80.00\n"
     ]
    }
   ],
   "source": [
    "# 12) Implement a class Student with attributes name and grades. Create a method average_grade() to compute\n",
    "#the average of the grades.\n",
    "\n",
    "class Student:\n",
    "    def __init__(self, name, grades):\n",
    "        self.name = name\n",
    "        self.grades = grades\n",
    "\n",
    "    def average_grade(self):\n",
    "        if len(self.grades) == 0:\n",
    "            return 0\n",
    "        return sum(self.grades) / len(self.grades)\n",
    "\n",
    "student1 = Student(\"Alice\", [85, 90, 88, 92])\n",
    "student2 = Student(\"Bob\", [78, 82, 80])\n",
    "\n",
    "print(f\"{student1.name}'s average grade: {student1.average_grade():.2f}\")\n",
    "print(f\"{student2.name}'s average grade: {student2.average_grade():.2f}\")"
   ]
  },
  {
   "cell_type": "code",
   "execution_count": 73,
   "id": "663f4666-39b5-4d9a-984a-27aabf9fe2fa",
   "metadata": {},
   "outputs": [],
   "source": [
    "# 13) Create a class Rectangle with methods set_dimensions() to set the dimensions and area() to calculate the\n",
    "#area.\n",
    "\n",
    "class Rectangle:\n",
    "    def __init__(self):\n",
    "        self.width = 0\n",
    "        self.height = 0\n",
    "\n",
    "    def set_dimensions(self, width, height):\n",
    "        self.width = width\n",
    "        self.height = height\n",
    "\n",
    "    def area(self):\n",
    "        return self.width * self.height"
   ]
  },
  {
   "cell_type": "code",
   "execution_count": 79,
   "id": "76629b2e-c6d6-4b81-a394-b976230f02df",
   "metadata": {},
   "outputs": [
    {
     "name": "stdout",
     "output_type": "stream",
     "text": [
      "Area of Rectangle 1: 14\n"
     ]
    }
   ],
   "source": [
    "rectangle1 = Rectangle()\n",
    "rectangle1.set_dimensions(7, 2)\n",
    "print(f\"Area of Rectangle 1: {rectangle1.area()}\")"
   ]
  },
  {
   "cell_type": "code",
   "execution_count": 80,
   "id": "c07713c3-e1d2-415a-ba57-f40c36508154",
   "metadata": {},
   "outputs": [
    {
     "name": "stdout",
     "output_type": "stream",
     "text": [
      "Area of Rectangle 2: 40\n"
     ]
    }
   ],
   "source": [
    "rectangle2 = Rectangle()\n",
    "rectangle2.set_dimensions(8, 5)\n",
    "print(f\"Area of Rectangle 2: {rectangle2.area()}\")"
   ]
  },
  {
   "cell_type": "code",
   "execution_count": 91,
   "id": "57834ceb-b6e0-4803-8174-fcadd4f7add0",
   "metadata": {},
   "outputs": [],
   "source": [
    "# 14) Create a class Employee with a method calculate_salary() that computes the salary based on hours worked\n",
    "#and hourly rate. Create a derived class Manager that adds a bonus to the salary.\n",
    "\n",
    "class Employee:\n",
    "    def __init__(self, name, hours_worked, hourly_rate):\n",
    "        self.name = name\n",
    "        self.hours_worked = hours_worked\n",
    "        self.hourly_rate = hourly_rate\n",
    "\n",
    "    def calculate_salary(self):\n",
    "        return self.hours_worked * self.hourly_rate\n",
    "\n",
    "class Manager(Employee):\n",
    "    def __init__(self, name, hours_worked, hourly_rate, bonus):\n",
    "        super().__init__(name, hours_worked, hourly_rate)\n",
    "        self.bonus = bonus\n",
    "\n",
    "    def calculate_salary(self):\n",
    "        base_salary = super().calculate_salary()\n",
    "        return base_salary + self.bonus"
   ]
  },
  {
   "cell_type": "code",
   "execution_count": 92,
   "id": "0a8f8d6b-804c-49a8-b527-ce99098b60d1",
   "metadata": {},
   "outputs": [
    {
     "name": "stdout",
     "output_type": "stream",
     "text": [
      "John's salary: $800\n",
      "Alice's salary: $2200\n"
     ]
    }
   ],
   "source": [
    "employee = Employee(\"John\", 40, 20)\n",
    "manager = Manager(\"Alice\", 40, 30, 1000)\n",
    "print(f\"{employee.name}'s salary: ${employee.calculate_salary()}\")\n",
    "print(f\"{manager.name}'s salary: ${manager.calculate_salary()}\")"
   ]
  },
  {
   "cell_type": "code",
   "execution_count": 96,
   "id": "e5600178-f1f1-4178-9dd8-6b23e404cda1",
   "metadata": {},
   "outputs": [],
   "source": [
    "# 15) Create a class Product with attributes name, price, and quantity. Implement a method total_price() that\n",
    "#calculates the total price of the product.\n",
    "\n",
    "class Product:\n",
    "    def __init__(self, name, price, quantity):\n",
    "        self.name = name\n",
    "        self.price = price\n",
    "        self.quantity = quantity\n",
    "\n",
    "    def total_price(self):\n",
    "        return self.price * self.quantity\n",
    "\n",
    "    def __str__(self):\n",
    "        return f\"Product(name={self.name}, price={self.price}, quantity={self.quantity})\""
   ]
  },
  {
   "cell_type": "code",
   "execution_count": 97,
   "id": "0691a7f5-9c7a-4f82-8da1-8864e28f01f7",
   "metadata": {},
   "outputs": [
    {
     "name": "stdout",
     "output_type": "stream",
     "text": [
      "Product(name=Laptop, price=1000, quantity=2)\n",
      "Total price of the product: 2000\n"
     ]
    }
   ],
   "source": [
    "product = Product(\"Laptop\", 1000, 2)\n",
    "print(product)\n",
    "print(f\"Total price of the product: {product.total_price()}\")"
   ]
  },
  {
   "cell_type": "code",
   "execution_count": 100,
   "id": "5c951501-2a62-4dcd-8635-10558ecb714f",
   "metadata": {},
   "outputs": [],
   "source": [
    "# 16) Create a class Animal with an abstract method sound(). Create two derived classes Cow and Sheep that\n",
    "#implement the sound() method.\n",
    "\n",
    "from abc import ABC\n",
    "class Animal(ABC):\n",
    "    @abstractmethod\n",
    "    def sound(self):\n",
    "        pass\n",
    "\n",
    "class Cow(Animal):\n",
    "    def sound(self):\n",
    "        return \"Mooo\"\n",
    "\n",
    "class Sheep(Animal):\n",
    "    def sound(self):\n",
    "        return \"Baaa\""
   ]
  },
  {
   "cell_type": "code",
   "execution_count": 101,
   "id": "33126b4c-c6fb-4eeb-9bf4-f06dbe65ba6b",
   "metadata": {},
   "outputs": [
    {
     "name": "stdout",
     "output_type": "stream",
     "text": [
      "Cow sound: Mooo\n",
      "Sheep sound: Baaa\n"
     ]
    }
   ],
   "source": [
    "cow = Cow()\n",
    "sheep = Sheep()\n",
    "print(f\"Cow sound: {cow.sound()}\")\n",
    "print(f\"Sheep sound: {sheep.sound()}\")"
   ]
  },
  {
   "cell_type": "code",
   "execution_count": 102,
   "id": "b8b3545d-4fa0-4b3a-9a15-6653aa983096",
   "metadata": {},
   "outputs": [],
   "source": [
    "# 17) Create a class Book with attributes title, author, and year_published. Add a method get_book_info() that\n",
    "#returns a formatted string with the book's details.\n",
    "\n",
    "class Book:\n",
    "    def __init__(self, title, author, year_published):\n",
    "        self.title = title\n",
    "        self.author = author\n",
    "        self.year_published = year_published\n",
    "\n",
    "    def get_book_info(self):\n",
    "        return f\"'{self.title}' by {self.author}, published in {self.year_published}\""
   ]
  },
  {
   "cell_type": "code",
   "execution_count": 103,
   "id": "87862dea-b660-4ecd-951c-dc4ed8e9c54b",
   "metadata": {},
   "outputs": [
    {
     "name": "stdout",
     "output_type": "stream",
     "text": [
      "'To Kill a Mockingbird' by Harper Lee, published in 1960\n",
      "'1984' by George Orwell, published in 1949\n"
     ]
    }
   ],
   "source": [
    "book1 = Book(\"To Kill a Mockingbird\", \"Harper Lee\", 1960)\n",
    "book2 = Book(\"1984\", \"George Orwell\", 1949)\n",
    "print(book1.get_book_info())\n",
    "print(book2.get_book_info())"
   ]
  },
  {
   "cell_type": "code",
   "execution_count": 104,
   "id": "603a767c-5e7f-4818-a3ca-11a1cc0c4929",
   "metadata": {},
   "outputs": [],
   "source": [
    "# 18) Create a class House with attributes address and price. Create a derived class Mansion that adds an\n",
    "#attribute number_of_rooms.\n",
    "\n",
    "class House:\n",
    "    def __init__(self, address, price):\n",
    "        self.address = address\n",
    "        self.price = price\n",
    "\n",
    "    def display_info(self):\n",
    "        print(f\"Address: {self.address}\")\n",
    "        print(f\"Price: {self.price}\")\n",
    "\n",
    "class Mansion(House):\n",
    "    def __init__(self, address, price, number_of_rooms):\n",
    "        super().__init__(address, price)\n",
    "        self.number_of_rooms = number_of_rooms\n",
    "\n",
    "    def display_info(self):\n",
    "        super().display_info()\n",
    "        print(f\"Number of Rooms: {self.number_of_rooms}\")"
   ]
  },
  {
   "cell_type": "code",
   "execution_count": 106,
   "id": "1ff4245d-7809-4fca-8d8d-3fd38034de3d",
   "metadata": {},
   "outputs": [
    {
     "name": "stdout",
     "output_type": "stream",
     "text": [
      "Address: 123 Luxury St\n",
      "Price: 5000000\n",
      "Number of Rooms: 10\n"
     ]
    }
   ],
   "source": [
    "my_mansion = Mansion(\"123 Luxury St\", 5000000, 10)\n",
    "my_mansion.display_info()"
   ]
  },
  {
   "cell_type": "code",
   "execution_count": null,
   "id": "d76e3328-e9b1-41be-8557-8e442e1a43ce",
   "metadata": {},
   "outputs": [],
   "source": []
  }
 ],
 "metadata": {
  "kernelspec": {
   "display_name": "Python 3 (ipykernel)",
   "language": "python",
   "name": "python3"
  },
  "language_info": {
   "codemirror_mode": {
    "name": "ipython",
    "version": 3
   },
   "file_extension": ".py",
   "mimetype": "text/x-python",
   "name": "python",
   "nbconvert_exporter": "python",
   "pygments_lexer": "ipython3",
   "version": "3.12.7"
  }
 },
 "nbformat": 4,
 "nbformat_minor": 5
}
